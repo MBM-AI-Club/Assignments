{
 "cells": [
  {
   "cell_type": "markdown",
   "id": "904c6d91",
   "metadata": {},
   "source": [
    "# Numpy Basics"
   ]
  },
  {
   "cell_type": "markdown",
   "id": "6bf66fc2",
   "metadata": {},
   "source": [
    "## Introduction to Modules, Packages, Libraries and Frameworks"
   ]
  },
  {
   "cell_type": "markdown",
   "id": "77949e81",
   "metadata": {},
   "source": [
    "### Modules\n",
    "\n",
    "#### What is a module?\n",
    "\n",
    "Modules are python program files saved with the .py extension desgined to solve certain problemsand allow reusability of code. Modules in Python provides us the flexibility to organize the code in a logical way. Modules allows us to break a large, unwieldy programming task into separate, smaller, more manageable subtasks. A module can define functions, classes, and variables. A module can also include runnable code.\n",
    "\n",
    "#### Advantages of modules\n",
    "\n",
    "- **Simplicity**: Rather than focusing on the entire problem at hand, a module typically focuses on one relatively small portion of the problem. This makes development easier and less error-prone.\n",
    "- **Maintainability**: Modules are typically designed so that they enforce logical boundaries between different problem domains.This makes it more viable for a team of many programmers to work collaboratively on a large application.\n",
    "- **Reusability**:Functionality defined in a single module can be easily reused (through an appropriately defined interface) by other parts of the application. This eliminates the need to duplicate code.\n",
    "- **Scoping**: Modules typically define a separate namespace, which helps avoid collisions between identifiers in different areas of a program.\n",
    "\n",
    "#### Examples of Modules\n",
    "\n",
    "##### Built-in Modules\n",
    "\n",
    "- **sys**: This module provides functions and variables used to manipulate different parts of the Python runtime environment.\n",
    "- **time**: This module has many time related functions.\n",
    "- **math**: This module presents commonly required mathematical functions.\n",
    "- **os**: This module has functions to perform many tasks of operating system.\n",
    "- **random**: Python’s standard library contains random module which defines various functions for handling randomization. "
   ]
  },
  {
   "cell_type": "markdown",
   "id": "bc43d196",
   "metadata": {},
   "source": [
    "### Packages\n",
    "\n",
    "#### What is a package?\n",
    "\n",
    "A package is a collection of various modules designed to perform similiar tasks. Physcially, it consists of Python modules containing an additional `__init__.py` file. , which distinguishes a package from a directory that is supposed to contain multiple Python scripts. Packages can be nested to multiple depths if each corresponding directory contains its own `__init__.py` file. `__init__.py` helps the Python interpreter to recognise the folder as package. It also specifies the resources to be imported from the modules. If the `__init__.py` is empty this means that all the functions of the modules will be imported. All the packages are modules but not all modules are packages.\n",
    "\n",
    "It has same advantages as that of a module, but in a broader perspective. \n",
    "\n",
    "#### Examples of Packages\n",
    "\n",
    "- **pip**: This package allows the users to install and manage packages in Python.- **\n",
    "- **pytest**: It provides a variety of modules to test new code, including small unit tests or complex functional tests.\n",
    "- **Pandas**: It is a Python package for fast and efficient processing of tabular data, time series, matrix data, etc.\n",
    "- **NumPy**: NumPy is the essential package for scientific and mathematical computing in Python."
   ]
  },
  {
   "cell_type": "markdown",
   "id": "9ee5425a",
   "metadata": {},
   "source": [
    "### Libraries\n",
    "\n",
    "#### What is a library?\n",
    "\n",
    "A library is an umbrella term referring to a reusable chunk of code. Actually, this term is often used interchangeably with “Python package” because packages can also contain modules and other packages (subpackages). However, it is often assumed that while a package is a collection of modules, a library is a collection of packages.\n",
    "\n",
    "#### Examples of Libraries\n",
    "\n",
    "- **Matplotlib**: Standard library for generating data visualizations in Python. It supports building basic two-dimensional graphs as well as more complex animated and interactive visualizations.\n",
    "- **Pytorch**: It is an open-source deep-learning library built by Facebook’s AI Research lab to implement advanced neural networks and cutting-edge research ideas in industry and academia.\n",
    "- **Scikit-learn**: It is the most useful and robust library for machine learning in Python."
   ]
  },
  {
   "cell_type": "markdown",
   "id": "cf3c6d70",
   "metadata": {},
   "source": [
    "### Frameworks\n",
    "\n",
    "#### What is a Framework?\n",
    "\n",
    "Similar to libraries, Python frameworks are a collection of modules and packages that help programmers to fast track the development process. However, frameworks are usually more complex than libraries. Also, while libraries contain packages that perform specific operations, frameworks contain the basic flow and architecture of the application.\n",
    "\n",
    "#### Examples of a Framework\n",
    "\n",
    "- **Tensorflow**: It free and open-source software library for machine learning and artificial intelligence.\n",
    "- **Django**: It is a Python framework for building web applications with less coding.\n",
    "- **Flask**: It is also a web development framework that is known for its lightweight and modular design."
   ]
  },
  {
   "cell_type": "markdown",
   "id": "6eee8650",
   "metadata": {},
   "source": [
    "## Importing modules"
   ]
  },
  {
   "cell_type": "markdown",
   "id": "7ec593e4",
   "metadata": {},
   "source": [
    "To use any of these in our project, we use the keyword `import`. To import a module, we use\n",
    "`import <module_name>`"
   ]
  },
  {
   "cell_type": "code",
   "execution_count": 1,
   "id": "8da125fc",
   "metadata": {},
   "outputs": [],
   "source": [
    "import math"
   ]
  },
  {
   "cell_type": "markdown",
   "id": "1fefbf6a",
   "metadata": {},
   "source": [
    "We can also use `as` keyword to provide a short name for the module. Some of the common short names are:\n",
    "- `numpy as np`\n",
    "- `pandas as pd`\n",
    "- `matplotlib.pyplot as plt`\n",
    "- `tensorflow as tf`"
   ]
  },
  {
   "cell_type": "code",
   "execution_count": 2,
   "id": "b598cd13",
   "metadata": {},
   "outputs": [],
   "source": [
    "import numpy as np"
   ]
  },
  {
   "cell_type": "markdown",
   "id": "1c2cdd2c",
   "metadata": {},
   "source": [
    "To import only certain functions, classes and variables we use `from <module_name> import <name(s)>`"
   ]
  },
  {
   "cell_type": "code",
   "execution_count": 5,
   "id": "08211ae2",
   "metadata": {},
   "outputs": [],
   "source": [
    "from numpy import array"
   ]
  },
  {
   "cell_type": "markdown",
   "id": "92fdbd39",
   "metadata": {},
   "source": [
    "## Numpy arrays"
   ]
  },
  {
   "cell_type": "markdown",
   "id": "268b426b",
   "metadata": {},
   "source": [
    "Numpy arrays are powerful multidimensional arrays of values, all of the same type, and is indexed by a tuple of nonnegative integers for efficient and fast computation of arrays and matrices. To provide a perspective, adding a scaler value to 10000 elements of a Numpy array was 120 times faster than performing same operation to a Python List. Because the Numpy array is densely packed in memory due to its homogeneous type, it also frees the memory faster.\n",
    "So overall a task executed in Numpy is around 5 to 100 times faster than the standard python list, which is a significant leap in terms of speed.\n",
    "\n",
    "#### The main reasons behind the fast speed of Numpy\n",
    "\n",
    "- Numpy array is a collection of similar data-types that are densely packed in memory. A Python list can have different data-types, which puts lots of extra constraints while doing computation on it.\n",
    "- Numpy is able to divide a task into multiple subtasks and process them parallelly.\n",
    "- Numpy functions are implemented in C which again makes it faster compared to Python Lists.\n",
    "\n",
    "We can initialize numpy arrays from nested Python lists, and access elements using square brackets"
   ]
  },
  {
   "cell_type": "code",
   "execution_count": 6,
   "id": "bfdd53f8",
   "metadata": {},
   "outputs": [
    {
     "name": "stdout",
     "output_type": "stream",
     "text": [
      "<class 'numpy.ndarray'>\n",
      "(3,)\n",
      "1 2 3\n",
      "[5 2 3]\n",
      "(2, 3)\n",
      "1 2 4\n"
     ]
    }
   ],
   "source": [
    "a = np.array([1, 2, 3])   # Create a rank 1 array\n",
    "print(type(a))            # Prints \"<class 'numpy.ndarray'>\"\n",
    "print(a.shape)            # Prints \"(3,)\"\n",
    "print(a[0], a[1], a[2])   # Prints \"1 2 3\"\n",
    "a[0] = 5                  # Change an element of the array\n",
    "print(a)                  # Prints \"[5, 2, 3]\"\n",
    "\n",
    "b = np.array([[1,2,3],[4,5,6]])    # Create a rank 2 array\n",
    "print(b.shape)                     # Prints \"(2, 3)\"\n",
    "print(b[0, 0], b[0, 1], b[1, 0])   # Prints \"1 2 4\""
   ]
  },
  {
   "cell_type": "markdown",
   "id": "3e584830",
   "metadata": {},
   "source": [
    "The number of dimensions is called the rank of the array.\n",
    "The shape of an array is a tuple of integers giving the size of the array along each dimension. It can be called using `.shape`."
   ]
  },
  {
   "cell_type": "markdown",
   "id": "de54b9b3",
   "metadata": {},
   "source": [
    "To access the multiple values/indices of a numpy array, we can provide a list of indices."
   ]
  },
  {
   "cell_type": "code",
   "execution_count": 13,
   "id": "b45d2226",
   "metadata": {},
   "outputs": [
    {
     "name": "stdout",
     "output_type": "stream",
     "text": [
      "[5 3]\n"
     ]
    }
   ],
   "source": [
    "print(a[[0,2]])"
   ]
  },
  {
   "cell_type": "markdown",
   "id": "71588fbc",
   "metadata": {},
   "source": [
    "Similar to Lists, numpy arrays can be sliced. Since arrays may be multidimensional, you must specify a slice for each dimension of the array. Slicing a Python list, creates a copy of the original list while sliced array in numpy referes to the original array. "
   ]
  },
  {
   "cell_type": "code",
   "execution_count": 9,
   "id": "5b2dc2bc",
   "metadata": {},
   "outputs": [
    {
     "name": "stdout",
     "output_type": "stream",
     "text": [
      "[[2]\n",
      " [5]]\n"
     ]
    }
   ],
   "source": [
    "# b = [[ 1 2 3]\n",
    "#      [ 4 5 6]]\n",
    "\n",
    "c = b[:2, 1:2] # The numpy array is sliced from 0 to 2(exclusive) rows\n",
    "               # and sliced from 1 to 2(exlusive)\n",
    "print(c)"
   ]
  },
  {
   "cell_type": "markdown",
   "id": "ac524b4b",
   "metadata": {},
   "source": [
    "## Vectorization"
   ]
  },
  {
   "cell_type": "markdown",
   "id": "0fe51e36",
   "metadata": {},
   "source": [
    "The **vectorization** is a powerful ability within NumPy to express operations as occurring on entire arrays rather than their individual elements. When looping over an array or any data structure in Python, there’s a lot of overhead involved. Vectorized operations in NumPy delegate the looping internally to highly optimized C and Fortran functions, making for cleaner and faster Python code."
   ]
  },
  {
   "cell_type": "code",
   "execution_count": 17,
   "id": "212ddad5",
   "metadata": {},
   "outputs": [
    {
     "name": "stdout",
     "output_type": "stream",
     "text": [
      "21\n",
      "21\n"
     ]
    }
   ],
   "source": [
    "# instead of this\n",
    "s = 0\n",
    "for i in b:\n",
    "    for j in i:\n",
    "        s += j\n",
    "print(s)\n",
    "\n",
    "print(np.sum(b)) # we can do this instead"
   ]
  },
  {
   "cell_type": "markdown",
   "id": "8c0f82fa",
   "metadata": {},
   "source": [
    "## Broadcasting"
   ]
  },
  {
   "cell_type": "markdown",
   "id": "ca29a66f",
   "metadata": {},
   "source": [
    "The term **broadcasting** refers to the ability of NumPy to treat arrays of different shapes during arithmetic operations. Arithmetic operations on arrays are usually done on corresponding elements. If two arrays are of exactly the same shape, then these operations are smoothly performed.\n",
    "\n",
    "Broadcasting provides a means of vectorizing array operations so that looping occurs in C instead of Python as we know that Numpy implemented in C. It does this without making needless copies of data and which leads to efficient algorithm implementations. \n",
    "\n",
    "When operating on two arrays, NumPy compares their shapes element-wise. It starts with the trailing dimensions and works its way forward. Two dimensions are compatible when:\n",
    "\n",
    "- they are equal, or\n",
    "- one of them is 1"
   ]
  },
  {
   "cell_type": "code",
   "execution_count": 16,
   "id": "4ac2dd12",
   "metadata": {},
   "outputs": [
    {
     "name": "stdout",
     "output_type": "stream",
     "text": [
      "[[ 5  4  9]\n",
      " [20 10 18]]\n",
      "[[ 2  4  6]\n",
      " [ 8 10 12]]\n"
     ]
    }
   ],
   "source": [
    "d = b * a\n",
    "# d = [[ 1*5 2*2 3*3]\n",
    "#      [ 4*5 5*2 6*3]]\n",
    "print(d)\n",
    "\n",
    "e = b+b\n",
    "# e = [[ 1+1 2+2 3+3]\n",
    "#      [ 4+4 5+5 6+6]]\n",
    "print(e)"
   ]
  },
  {
   "cell_type": "markdown",
   "id": "1fb5dbb0",
   "metadata": {},
   "source": [
    "Not only arithmetic operations are allowed on arrays, we can also use logical operations on it as well"
   ]
  },
  {
   "cell_type": "code",
   "execution_count": 18,
   "id": "e5f2523e",
   "metadata": {},
   "outputs": [
    {
     "name": "stdout",
     "output_type": "stream",
     "text": [
      "[5 2 3]\n",
      "[ True False  True]\n"
     ]
    }
   ],
   "source": [
    "print(a)\n",
    "print(a>2)"
   ]
  },
  {
   "cell_type": "code",
   "execution_count": 19,
   "id": "6aaaa680",
   "metadata": {},
   "outputs": [
    {
     "name": "stdout",
     "output_type": "stream",
     "text": [
      "[5 3]\n"
     ]
    }
   ],
   "source": [
    "print(a[a>2]) # Print values that are greater than 2"
   ]
  },
  {
   "cell_type": "markdown",
   "id": "12a5ba33",
   "metadata": {},
   "source": [
    "## Important Numpy Functions"
   ]
  },
  {
   "cell_type": "markdown",
   "id": "eecab430",
   "metadata": {},
   "source": [
    "`zeros(shape)`: It create an array of all zeros of given shape"
   ]
  },
  {
   "cell_type": "code",
   "execution_count": 21,
   "id": "198925db",
   "metadata": {},
   "outputs": [
    {
     "name": "stdout",
     "output_type": "stream",
     "text": [
      "[0. 0. 0. 0. 0. 0.]\n",
      "[[0. 0. 0.]\n",
      " [0. 0. 0.]\n",
      " [0. 0. 0.]\n",
      " [0. 0. 0.]\n",
      " [0. 0. 0.]]\n"
     ]
    }
   ],
   "source": [
    "print(np.zeros(6))\n",
    "print(np.zeros((5,3)))"
   ]
  },
  {
   "cell_type": "markdown",
   "id": "18fea4d7",
   "metadata": {},
   "source": [
    "`eye(N)`: It creates a Identity matrix of size N"
   ]
  },
  {
   "cell_type": "code",
   "execution_count": 24,
   "id": "590f59a1",
   "metadata": {},
   "outputs": [
    {
     "name": "stdout",
     "output_type": "stream",
     "text": [
      "[[1. 0. 0.]\n",
      " [0. 1. 0.]\n",
      " [0. 0. 1.]]\n"
     ]
    }
   ],
   "source": [
    "print(np.eye(3))"
   ]
  },
  {
   "cell_type": "markdown",
   "id": "b0255009",
   "metadata": {},
   "source": [
    "`arange([start, ]stop, [step, ])`: It returns evenly spaced values within a given interval. Similiar to range."
   ]
  },
  {
   "cell_type": "code",
   "execution_count": 26,
   "id": "0ec5d119",
   "metadata": {},
   "outputs": [
    {
     "name": "stdout",
     "output_type": "stream",
     "text": [
      "[3 4 5 6]\n"
     ]
    }
   ],
   "source": [
    "print(np.arange(3,7))"
   ]
  },
  {
   "cell_type": "markdown",
   "id": "caa1fad1",
   "metadata": {},
   "source": [
    "`linspace(start, stop)`: It returns evenly spaced numbers/floats over a specified interval."
   ]
  },
  {
   "cell_type": "code",
   "execution_count": 27,
   "id": "4af69a23",
   "metadata": {},
   "outputs": [
    {
     "name": "stdout",
     "output_type": "stream",
     "text": [
      "[3.8 4.9 6.  7.1]\n"
     ]
    }
   ],
   "source": [
    "print(np.linspace(3.8,7.1,4))"
   ]
  },
  {
   "cell_type": "markdown",
   "id": "cc9392a5",
   "metadata": {},
   "source": [
    "`reshape(a, newshape)`: It gives a new shape to an array `a` without changing its data."
   ]
  },
  {
   "cell_type": "code",
   "execution_count": 30,
   "id": "b032d813",
   "metadata": {},
   "outputs": [
    {
     "name": "stdout",
     "output_type": "stream",
     "text": [
      "[[1 2]\n",
      " [3 4]\n",
      " [5 6]]\n"
     ]
    }
   ],
   "source": [
    "print(np.reshape(b,(3,2)))"
   ]
  },
  {
   "cell_type": "markdown",
   "id": "33c734d1",
   "metadata": {},
   "source": [
    "## Decoding Assignment 4"
   ]
  },
  {
   "cell_type": "markdown",
   "id": "1ca779b7",
   "metadata": {},
   "source": [
    "### Assignment 4\n",
    "\n",
    "Q. Use recursion to design a program that can automatically place its chance in the previously built tic-tac-toe game and always wins the game.\n",
    "Hint: https://www.neverstopbuilding.com/blog/minimax\n",
    "\n",
    "Example:\n",
    "```\n",
    "In: \n",
    "Choose X or O\n",
    "Player: X\n",
    "\n",
    "Player: 4\n",
    "Out:\n",
    "   |   |\n",
    "-----------\n",
    "   | X |\n",
    "-----------\n",
    "   |   |\n",
    "\n",
    "Out: \n",
    "Computer places O at 2\n",
    "   |   | O\n",
    "-----------\n",
    "   | X |\n",
    "-----------\n",
    "   |   |\n",
    "\n",
    "In: \n",
    "Player: 0\n",
    "Out:\n",
    " X |   | O\n",
    "-----------\n",
    "   | X |\n",
    "-----------\n",
    "   |   |\n",
    "   \n",
    "Out: \n",
    "Computer places O at 9\n",
    " X |   | O\n",
    "-----------\n",
    "   | X | \n",
    "-----------\n",
    "   |   | O\n",
    "\n",
    "In:\n",
    "Player: 5\n",
    "Out: \n",
    " X |   | O\n",
    "-----------\n",
    "   | X | X\n",
    "-----------\n",
    "   |   | O\n",
    "\n",
    "Out: \n",
    "Computer places O at 3\n",
    " X |   | O\n",
    "-----------\n",
    " O | X | X\n",
    "-----------\n",
    "   |   | O\n",
    "\n",
    "In:\n",
    "Player: 1\n",
    "Out: \n",
    " X | X | O\n",
    "-----------\n",
    " O | X | X\n",
    "-----------\n",
    "   |   | O\n",
    "   \n",
    "Out: \n",
    "Computer places O at 7\n",
    " X | X | O\n",
    "-----------\n",
    " O | X | X\n",
    "-----------\n",
    "   | O | O\n",
    "\n",
    "In:\n",
    "Player: 6\n",
    "Out: \n",
    " X | X | O\n",
    "-----------\n",
    " O | X | X\n",
    "-----------\n",
    " X | O | O\n",
    "\n",
    "The match is drawn!!!\n",
    "```\n"
   ]
  },
  {
   "cell_type": "markdown",
   "id": "fde98fab",
   "metadata": {},
   "source": [
    "Let's first define a scoring criteria\n",
    "\n",
    "```\n",
    "def score(game)\n",
    "    if game.win?(@player)\n",
    "        return 1\n",
    "    elsif game.win?(@opponent)\n",
    "        return -1\n",
    "    else\n",
    "        return 0\n",
    "    end\n",
    "end\n",
    "```\n",
    "\n",
    "and minimax algorithm\n",
    "\n",
    "```\n",
    "def minimax(game)\n",
    "    return score(game) if game.over?\n",
    "    scores = [] # an array of scores\n",
    "    moves = []  # an array of moves\n",
    "\n",
    "    # Populate the scores array, recursing as needed\n",
    "    game.get_available_moves.each do |move|\n",
    "        possible_game = game.get_new_state(move)\n",
    "        scores.push minimax(possible_game)\n",
    "        moves.push move\n",
    "    end\n",
    "\n",
    "    # Do the min or the max calculation\n",
    "    if game.active_turn == @player\n",
    "        # This is the max calculation\n",
    "        max_score_index = scores.each_with_index.max[1]\n",
    "        @choice = moves[max_score_index]\n",
    "        return scores[max_score_index]\n",
    "    else\n",
    "        # This is the min calculation\n",
    "        min_score_index = scores.each_with_index.min[1]\n",
    "        @choice = moves[min_score_index]\n",
    "        return scores[min_score_index]\n",
    "    end\n",
    "end\n",
    "```"
   ]
  },
  {
   "cell_type": "markdown",
   "id": "2f089a57",
   "metadata": {},
   "source": [
    "Let's take a smaller game. Tic-tac-toe with only 4 sides and diagonal winning is not allowed. So what will be the tree/chances of it."
   ]
  },
  {
   "cell_type": "markdown",
   "id": "4622b5d8",
   "metadata": {},
   "source": [
    "```\n",
    "1. | X |   |   2. |   | X |  3. |   |   |  4. |   |   |\n",
    "   ---------      ---------     ---------     ---------\n",
    "   |   |   |      |   |   |     | X |   |     |   | X |\n",
    "       +1             +1            +1            +1\n",
    "   \n",
    "1.1. | X | O |   1.2. | X |   |  1.3 | X |   | \n",
    "     ---------        ---------      --------- \n",
    "     |   |   |        | O |   |      |   | O |\n",
    "         +1               +1             +2\n",
    "2.1. | O | X |   2.2. |   | X |  2.3 |   | X | \n",
    "     ---------        ---------      --------- \n",
    "     |   |   |        | O |   |      |   | O |\n",
    "         +1               +2             +1\n",
    "3.1. | O |   |   3.2. |   | O |  3.3 |   |   | \n",
    "     ---------        ---------      --------- \n",
    "     | X |   |        | X |   |      | X | O |\n",
    "         +1               +2             +1\n",
    "4.1. | O |   |   4.2. |   | O |  4.3 |   |   | \n",
    "     ---------        ---------      --------- \n",
    "     |   | X |        |   | X |      | O | X |\n",
    "         +2               +1             +1\n",
    "        \n",
    "1.1.1. | X | O |   1.1.2.| X | O |   1.2.1. | X | X |  1.2.2. | X |   |  1.3.1. | X | X |  1.3.2. | X |   |\n",
    "       ---------         ---------          ---------         ---------         ---------         ---------\n",
    "       | X |   |         |   | X |          | O |   |         | O | X |         |   | O |         | X | O |\n",
    "          WIN               DRAW               WIN               DRAW              WIN                WIN\n",
    "2.1.1. | O | X |   2.1.2.| O | X |   2.2.1. | X | X |  2.2.2. |   | X |  2.3.1. | X | X |  2.3.2. |   | X |\n",
    "       ---------         ---------          ---------         ---------         ---------         ---------\n",
    "       | X |   |         |   | X |          | O |   |         | O | X |         |   | O |         | X | O |\n",
    "          DRAW              WIN                WIN               WIN               WIN               DRAW\n",
    "```"
   ]
  },
  {
   "cell_type": "code",
   "execution_count": null,
   "id": "2ddf4403",
   "metadata": {},
   "outputs": [],
   "source": []
  }
 ],
 "metadata": {
  "kernelspec": {
   "display_name": "Python 3 (ipykernel)",
   "language": "python",
   "name": "python3"
  },
  "language_info": {
   "codemirror_mode": {
    "name": "ipython",
    "version": 3
   },
   "file_extension": ".py",
   "mimetype": "text/x-python",
   "name": "python",
   "nbconvert_exporter": "python",
   "pygments_lexer": "ipython3",
   "version": "3.7.10"
  }
 },
 "nbformat": 4,
 "nbformat_minor": 5
}
